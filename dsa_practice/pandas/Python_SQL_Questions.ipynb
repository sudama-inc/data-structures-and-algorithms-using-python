{
  "cells": [
    {
      "cell_type": "markdown",
      "metadata": {
        "id": "Z4e8IL2SY0dj"
      },
      "source": [
        "# Python Questions:"
      ]
    },
    {
      "cell_type": "markdown",
      "metadata": {
        "id": "DZaNyEQEpBIe"
      },
      "source": [
        "#Count the unique values in list a\n",
        "\n",
        "a = [1,2,3,2,4,3,5,1]"
      ]
    },
    {
      "cell_type": "code",
      "execution_count": 2,
      "metadata": {
        "id": "2SJaegrzPzhS",
        "colab": {
          "base_uri": "https://localhost:8080/"
        },
        "outputId": "eb5e147a-b800-4f08-9393-8b5e490aa9b4"
      },
      "outputs": [
        {
          "output_type": "stream",
          "name": "stdout",
          "text": [
            "{1: 2, 2: 2, 3: 2, 4: 1, 5: 1}\n"
          ]
        }
      ],
      "source": [
        "#Your code here\n",
        "a = [1,2,3,2,4,3,5,1]\n",
        "res = {}\n",
        "for i in a:\n",
        "  if i not in res.keys():\n",
        "    res[i] = 1\n",
        "  else:\n",
        "    res[i] += 1\n",
        "\n",
        "print(res)"
      ]
    },
    {
      "cell_type": "code",
      "source": [
        "count = list(res.keys())\n",
        "print(len(count))"
      ],
      "metadata": {
        "colab": {
          "base_uri": "https://localhost:8080/"
        },
        "id": "t8N0-t903GVf",
        "outputId": "3a9c3dd1-6f45-47d2-d8b4-14b7974b6608"
      },
      "execution_count": 7,
      "outputs": [
        {
          "output_type": "stream",
          "name": "stdout",
          "text": [
            "5\n"
          ]
        }
      ]
    },
    {
      "cell_type": "markdown",
      "metadata": {
        "id": "KCS7F9IWaMz3"
      },
      "source": [
        "For list x, reverse each element of the list:\n",
        "\n",
        "x = [[4, 1, 6], [7, 8], [4, 10, 8]]\n",
        "\n",
        "Output: [[6, 1, 4], [8, 7], [8, 10, 4]]"
      ]
    },
    {
      "cell_type": "code",
      "execution_count": 11,
      "metadata": {
        "id": "GJVO2pJ7Xr5Z",
        "colab": {
          "base_uri": "https://localhost:8080/"
        },
        "outputId": "cb7f5fd2-e436-41b5-ce9e-d0483b70e4a5"
      },
      "outputs": [
        {
          "output_type": "stream",
          "name": "stdout",
          "text": [
            "[[6, 1, 4], [8, 7], [8, 10, 4]]\n"
          ]
        }
      ],
      "source": [
        "#Your code here\n",
        "x = [[4, 1, 6], [7, 8], [4, 10, 8]]\n",
        "res = []\n",
        "for i in x:\n",
        "\n",
        "  res.append(i[::-1])\n",
        "print(res)"
      ]
    },
    {
      "cell_type": "markdown",
      "metadata": {
        "id": "ydlMvdr5adiH"
      },
      "source": [
        "For the given list x, using a single line of code print the squares of all integer type elements.\n",
        "\n",
        "x = [1,2,'A','B']\n",
        "\n",
        "Output: [1,4]"
      ]
    },
    {
      "cell_type": "code",
      "execution_count": 16,
      "metadata": {
        "id": "OCxKDuuWXvgB",
        "colab": {
          "base_uri": "https://localhost:8080/"
        },
        "outputId": "c496748d-a2ac-4d60-94a0-60749b243535"
      },
      "outputs": [
        {
          "output_type": "stream",
          "name": "stdout",
          "text": [
            "[1, 4]\n"
          ]
        }
      ],
      "source": [
        "#Your code here\n",
        "x = [1,2,'A','B']\n",
        "op = [i**2 for i in x if type(i) == type(int())]\n",
        "print(op)"
      ]
    },
    {
      "cell_type": "markdown",
      "metadata": {
        "id": "vAE-KGHLbQp9"
      },
      "source": [
        "For the dictionary below:\n",
        "\n",
        "a) Print all songs in the_best_one\n",
        "\n",
        "b) Provide the total number of Songs in the following Dictionary\n",
        "\n",
        "c) Name the 1st album to be released"
      ]
    },
    {
      "cell_type": "code",
      "execution_count": 17,
      "metadata": {
        "id": "r2NU8TX7bTnk",
        "colab": {
          "base_uri": "https://localhost:8080/"
        },
        "outputId": "3a3fe64e-f082-40ff-c90b-0721b7d523cf"
      },
      "outputs": [
        {
          "output_type": "stream",
          "name": "stdout",
          "text": [
            "{'excellent': {'album': 'The Slim Shady LP', 'year_released': 1999, 'songs': ['My Name Is', 'Brain Damage', 'Paul', 'Role Model', 'My Fault'], 'sales': 10410000}, 'the_okay_one': {'album': 'The Marshall Matthers LP 2', 'year_released': 2013, 'songs': ['Stronger Than I was', 'Rap God', 'Berzerk', 'Legacy'], 'sales': 4770000}, 'the_best_one': {'album': 'Recovery', 'year_released': 2010, 'songs': ['Not Afraid', 'Love The Way You Lie', 'Space Bound', 'No Love'], 'sales': 8330000}}\n"
          ]
        }
      ],
      "source": [
        "eminem_dict = {'excellent':{'album':\"The Slim Shady LP\",'year_released':1999,'songs':['My Name Is','Brain Damage','Paul','Role Model','My Fault'], 'sales':10410000},\n",
        "'the_okay_one':{'album':\"The Marshall Matthers LP 2\",'year_released':2013,'songs':['Stronger Than I was','Rap God','Berzerk','Legacy'], 'sales':4770000},\n",
        "'the_best_one':{'album':\"Recovery\",'year_released':2010,'songs':['Not Afraid','Love The Way You Lie','Space Bound','No Love'], 'sales':8330000}\n",
        "}\n",
        "\n",
        "print(eminem_dict)"
      ]
    },
    {
      "cell_type": "code",
      "execution_count": 32,
      "metadata": {
        "id": "4VTEkOnOP15x",
        "colab": {
          "base_uri": "https://localhost:8080/"
        },
        "outputId": "f299f6e8-b695-4dcd-c2f6-362cea39bc11"
      },
      "outputs": [
        {
          "output_type": "stream",
          "name": "stdout",
          "text": [
            "The Slim Shady LP\n",
            "1999\n",
            "['My Name Is', 'Brain Damage', 'Paul', 'Role Model', 'My Fault']\n",
            "10410000\n",
            "The Marshall Matthers LP 2\n",
            "2013\n",
            "['Stronger Than I was', 'Rap God', 'Berzerk', 'Legacy']\n",
            "4770000\n",
            "Recovery\n",
            "2010\n",
            "['Not Afraid', 'Love The Way You Lie', 'Space Bound', 'No Love']\n",
            "8330000\n"
          ]
        }
      ],
      "source": [
        "#Your code here\n",
        "for key, val in eminem_dict.items():\n",
        "  for k, v in val.items():\n",
        "    print(v)\n"
      ]
    },
    {
      "cell_type": "code",
      "source": [
        "import pandas as pd\n",
        "import numpy as np"
      ],
      "metadata": {
        "id": "enUCjOks8h1f"
      },
      "execution_count": 34,
      "outputs": []
    },
    {
      "cell_type": "code",
      "source": [
        "from IPython.lib.security import encode\n",
        "df = pd.read_csv('billboard_top20_2010_2019.csv', encoding='latin-1' )\n",
        "df.head()"
      ],
      "metadata": {
        "colab": {
          "base_uri": "https://localhost:8080/",
          "height": 206
        },
        "id": "t3MZ09l38h4J",
        "outputId": "73350f87-25cd-46a7-d466-a8f6dfdd315c"
      },
      "execution_count": 41,
      "outputs": [
        {
          "output_type": "execute_result",
          "data": {
            "text/plain": [
              "   rank                 title      artist        top genre  year  bpm  nrgy  \\\n",
              "0     1      Hey, Soul Sister       Train       neo mellow  2010   97    89   \n",
              "1     2  Love The Way You Lie      Eminem  detroit hip hop  2010   87    93   \n",
              "2     3               TiK ToK       Kesha        dance pop  2010  120    84   \n",
              "3     4           Bad Romance   Lady Gaga        dance pop  2010  119    92   \n",
              "4     5  Just the Way You Are  Bruno Mars              pop  2010  109    84   \n",
              "\n",
              "   dnce  dB  live  val  dur  acous  spch  pop  \n",
              "0    67  -4     8   80  217     19     4   83  \n",
              "1    75  -5    52   64  263     24    23   82  \n",
              "2    76  -3    29   71  200     10    14   80  \n",
              "3    70  -4     8   71  295      0     4   79  \n",
              "4    64  -5     9   43  221      2     4   78  "
            ],
            "text/html": [
              "\n",
              "  <div id=\"df-d61a1c9c-d11c-49fb-b5eb-6cb7f2fefa5f\">\n",
              "    <div class=\"colab-df-container\">\n",
              "      <div>\n",
              "<style scoped>\n",
              "    .dataframe tbody tr th:only-of-type {\n",
              "        vertical-align: middle;\n",
              "    }\n",
              "\n",
              "    .dataframe tbody tr th {\n",
              "        vertical-align: top;\n",
              "    }\n",
              "\n",
              "    .dataframe thead th {\n",
              "        text-align: right;\n",
              "    }\n",
              "</style>\n",
              "<table border=\"1\" class=\"dataframe\">\n",
              "  <thead>\n",
              "    <tr style=\"text-align: right;\">\n",
              "      <th></th>\n",
              "      <th>rank</th>\n",
              "      <th>title</th>\n",
              "      <th>artist</th>\n",
              "      <th>top genre</th>\n",
              "      <th>year</th>\n",
              "      <th>bpm</th>\n",
              "      <th>nrgy</th>\n",
              "      <th>dnce</th>\n",
              "      <th>dB</th>\n",
              "      <th>live</th>\n",
              "      <th>val</th>\n",
              "      <th>dur</th>\n",
              "      <th>acous</th>\n",
              "      <th>spch</th>\n",
              "      <th>pop</th>\n",
              "    </tr>\n",
              "  </thead>\n",
              "  <tbody>\n",
              "    <tr>\n",
              "      <th>0</th>\n",
              "      <td>1</td>\n",
              "      <td>Hey, Soul Sister</td>\n",
              "      <td>Train</td>\n",
              "      <td>neo mellow</td>\n",
              "      <td>2010</td>\n",
              "      <td>97</td>\n",
              "      <td>89</td>\n",
              "      <td>67</td>\n",
              "      <td>-4</td>\n",
              "      <td>8</td>\n",
              "      <td>80</td>\n",
              "      <td>217</td>\n",
              "      <td>19</td>\n",
              "      <td>4</td>\n",
              "      <td>83</td>\n",
              "    </tr>\n",
              "    <tr>\n",
              "      <th>1</th>\n",
              "      <td>2</td>\n",
              "      <td>Love The Way You Lie</td>\n",
              "      <td>Eminem</td>\n",
              "      <td>detroit hip hop</td>\n",
              "      <td>2010</td>\n",
              "      <td>87</td>\n",
              "      <td>93</td>\n",
              "      <td>75</td>\n",
              "      <td>-5</td>\n",
              "      <td>52</td>\n",
              "      <td>64</td>\n",
              "      <td>263</td>\n",
              "      <td>24</td>\n",
              "      <td>23</td>\n",
              "      <td>82</td>\n",
              "    </tr>\n",
              "    <tr>\n",
              "      <th>2</th>\n",
              "      <td>3</td>\n",
              "      <td>TiK ToK</td>\n",
              "      <td>Kesha</td>\n",
              "      <td>dance pop</td>\n",
              "      <td>2010</td>\n",
              "      <td>120</td>\n",
              "      <td>84</td>\n",
              "      <td>76</td>\n",
              "      <td>-3</td>\n",
              "      <td>29</td>\n",
              "      <td>71</td>\n",
              "      <td>200</td>\n",
              "      <td>10</td>\n",
              "      <td>14</td>\n",
              "      <td>80</td>\n",
              "    </tr>\n",
              "    <tr>\n",
              "      <th>3</th>\n",
              "      <td>4</td>\n",
              "      <td>Bad Romance</td>\n",
              "      <td>Lady Gaga</td>\n",
              "      <td>dance pop</td>\n",
              "      <td>2010</td>\n",
              "      <td>119</td>\n",
              "      <td>92</td>\n",
              "      <td>70</td>\n",
              "      <td>-4</td>\n",
              "      <td>8</td>\n",
              "      <td>71</td>\n",
              "      <td>295</td>\n",
              "      <td>0</td>\n",
              "      <td>4</td>\n",
              "      <td>79</td>\n",
              "    </tr>\n",
              "    <tr>\n",
              "      <th>4</th>\n",
              "      <td>5</td>\n",
              "      <td>Just the Way You Are</td>\n",
              "      <td>Bruno Mars</td>\n",
              "      <td>pop</td>\n",
              "      <td>2010</td>\n",
              "      <td>109</td>\n",
              "      <td>84</td>\n",
              "      <td>64</td>\n",
              "      <td>-5</td>\n",
              "      <td>9</td>\n",
              "      <td>43</td>\n",
              "      <td>221</td>\n",
              "      <td>2</td>\n",
              "      <td>4</td>\n",
              "      <td>78</td>\n",
              "    </tr>\n",
              "  </tbody>\n",
              "</table>\n",
              "</div>\n",
              "      <button class=\"colab-df-convert\" onclick=\"convertToInteractive('df-d61a1c9c-d11c-49fb-b5eb-6cb7f2fefa5f')\"\n",
              "              title=\"Convert this dataframe to an interactive table.\"\n",
              "              style=\"display:none;\">\n",
              "        \n",
              "  <svg xmlns=\"http://www.w3.org/2000/svg\" height=\"24px\"viewBox=\"0 0 24 24\"\n",
              "       width=\"24px\">\n",
              "    <path d=\"M0 0h24v24H0V0z\" fill=\"none\"/>\n",
              "    <path d=\"M18.56 5.44l.94 2.06.94-2.06 2.06-.94-2.06-.94-.94-2.06-.94 2.06-2.06.94zm-11 1L8.5 8.5l.94-2.06 2.06-.94-2.06-.94L8.5 2.5l-.94 2.06-2.06.94zm10 10l.94 2.06.94-2.06 2.06-.94-2.06-.94-.94-2.06-.94 2.06-2.06.94z\"/><path d=\"M17.41 7.96l-1.37-1.37c-.4-.4-.92-.59-1.43-.59-.52 0-1.04.2-1.43.59L10.3 9.45l-7.72 7.72c-.78.78-.78 2.05 0 2.83L4 21.41c.39.39.9.59 1.41.59.51 0 1.02-.2 1.41-.59l7.78-7.78 2.81-2.81c.8-.78.8-2.07 0-2.86zM5.41 20L4 18.59l7.72-7.72 1.47 1.35L5.41 20z\"/>\n",
              "  </svg>\n",
              "      </button>\n",
              "      \n",
              "  <style>\n",
              "    .colab-df-container {\n",
              "      display:flex;\n",
              "      flex-wrap:wrap;\n",
              "      gap: 12px;\n",
              "    }\n",
              "\n",
              "    .colab-df-convert {\n",
              "      background-color: #E8F0FE;\n",
              "      border: none;\n",
              "      border-radius: 50%;\n",
              "      cursor: pointer;\n",
              "      display: none;\n",
              "      fill: #1967D2;\n",
              "      height: 32px;\n",
              "      padding: 0 0 0 0;\n",
              "      width: 32px;\n",
              "    }\n",
              "\n",
              "    .colab-df-convert:hover {\n",
              "      background-color: #E2EBFA;\n",
              "      box-shadow: 0px 1px 2px rgba(60, 64, 67, 0.3), 0px 1px 3px 1px rgba(60, 64, 67, 0.15);\n",
              "      fill: #174EA6;\n",
              "    }\n",
              "\n",
              "    [theme=dark] .colab-df-convert {\n",
              "      background-color: #3B4455;\n",
              "      fill: #D2E3FC;\n",
              "    }\n",
              "\n",
              "    [theme=dark] .colab-df-convert:hover {\n",
              "      background-color: #434B5C;\n",
              "      box-shadow: 0px 1px 3px 1px rgba(0, 0, 0, 0.15);\n",
              "      filter: drop-shadow(0px 1px 2px rgba(0, 0, 0, 0.3));\n",
              "      fill: #FFFFFF;\n",
              "    }\n",
              "  </style>\n",
              "\n",
              "      <script>\n",
              "        const buttonEl =\n",
              "          document.querySelector('#df-d61a1c9c-d11c-49fb-b5eb-6cb7f2fefa5f button.colab-df-convert');\n",
              "        buttonEl.style.display =\n",
              "          google.colab.kernel.accessAllowed ? 'block' : 'none';\n",
              "\n",
              "        async function convertToInteractive(key) {\n",
              "          const element = document.querySelector('#df-d61a1c9c-d11c-49fb-b5eb-6cb7f2fefa5f');\n",
              "          const dataTable =\n",
              "            await google.colab.kernel.invokeFunction('convertToInteractive',\n",
              "                                                     [key], {});\n",
              "          if (!dataTable) return;\n",
              "\n",
              "          const docLinkHtml = 'Like what you see? Visit the ' +\n",
              "            '<a target=\"_blank\" href=https://colab.research.google.com/notebooks/data_table.ipynb>data table notebook</a>'\n",
              "            + ' to learn more about interactive tables.';\n",
              "          element.innerHTML = '';\n",
              "          dataTable['output_type'] = 'display_data';\n",
              "          await google.colab.output.renderOutput(dataTable, element);\n",
              "          const docLink = document.createElement('div');\n",
              "          docLink.innerHTML = docLinkHtml;\n",
              "          element.appendChild(docLink);\n",
              "        }\n",
              "      </script>\n",
              "    </div>\n",
              "  </div>\n",
              "  "
            ]
          },
          "metadata": {},
          "execution_count": 41
        }
      ]
    },
    {
      "cell_type": "code",
      "source": [
        "# df[df.year == 2016]\n",
        "df_new = df[df.year == 2016].groupby(['rank', 'title', 'artist', 'bpm'])\n",
        "# display(df_new.iloc(df_new[0:10, :]))\n",
        "\n",
        "\n",
        "\n"
      ],
      "metadata": {
        "id": "9wrI2khM9O8u"
      },
      "execution_count": 57,
      "outputs": []
    },
    {
      "cell_type": "markdown",
      "metadata": {
        "id": "fyq0xzxsZQ1L"
      },
      "source": [
        "\n",
        "Pull the 'billboard_top20_2010_2019' csv file from the folder. [ NOTE: encoding='latin-1' ]\n",
        "\n",
        "\n",
        "\n",
        "What were the top 10 ranked songs in 2016? Output the rank, artist, song name and bpm.\n",
        "\n",
        "Sort the result based on the bpm in ascending order.\n"
      ]
    },
    {
      "cell_type": "code",
      "source": [
        "#Your code here\n",
        "df ="
      ],
      "metadata": {
        "id": "fTtnjSaQBpux"
      },
      "execution_count": null,
      "outputs": []
    },
    {
      "cell_type": "markdown",
      "metadata": {
        "id": "s1KgXhpwBTQJ"
      },
      "source": [
        "User information:\n",
        "\n",
        "a) Pull the 'user_purchase' csv file from the folder, and output the revenue of all users.\n",
        "\n",
        "b) Identify returning active users. A returning active user is a user that has made a second purchase within 7 days of any other of their purchases. Output a list of user_ids of these returning active users."
      ]
    },
    {
      "cell_type": "code",
      "source": [
        "#Your code here"
      ],
      "metadata": {
        "id": "JPW0e2_v6hW6"
      },
      "execution_count": null,
      "outputs": []
    },
    {
      "cell_type": "markdown",
      "metadata": {
        "id": "S_WNOVWvbuQk"
      },
      "source": [
        "\n",
        "\n",
        "---\n",
        "\n"
      ]
    },
    {
      "cell_type": "markdown",
      "metadata": {
        "id": "b2DROZ1rZFpD"
      },
      "source": [
        "# SQL Questions:"
      ]
    },
    {
      "cell_type": "code",
      "execution_count": null,
      "metadata": {
        "id": "rr4onsOqZcbj"
      },
      "outputs": [],
      "source": [
        "!pip install SQLAlchemy==1.4.46\n",
        "!pip install pandasql\n",
        "!pip install pandas\n",
        "!pip install numpy"
      ]
    },
    {
      "cell_type": "code",
      "execution_count": null,
      "metadata": {
        "id": "Iu-ESDVNZPwz"
      },
      "outputs": [],
      "source": [
        "import numpy as np\n",
        "import pandas as pd\n",
        "from pandasql import sqldf\n",
        "house_not_md = pd.read_csv('sample_data/california_housing_test.csv', encoding = 'utf-8')\n",
        "house_not_md = house_not_md.rename(columns = {'households': 'no_of_houses'}, inplace = False)\n",
        "house_not_md['Reg_Lat'] = pd.cut(house_not_md['latitude'],3,labels = [\"SOUTH\",\"CENTER\",\"NORTH\"])\n",
        "house_not_md['Reg_Lng'] = pd.cut(house_not_md['longitude'],3,labels = [\"WEST\",\"CENTRAL\",\"EAST\"])\n",
        "house_not_md['REGION'] = house_not_md[['Reg_Lat','Reg_Lng']].agg('-'.join, axis=1)\n",
        "house_not_md['REGION'].replace('CENTER-CENTRAL',\"CENTER\", inplace = True)\n",
        "house_not_md[\"Mapper\"] = house_not_md['latitude'].astype(str)+house_not_md['longitude'].astype(str)\n",
        "house_not_md[\"RANK\"] = house_not_md[\"Mapper\"].rank().astype(int)\n",
        "house_not_md[\"SUB_REGION\"] = \"AREA - \" + house_not_md[\"Mapper\"].rank().astype(int).astype(str)\n",
        "# house_not_md.sort_values(by=['REGION','RANK'], axis=0, ascending=True, inplace=True,ignore_index=True)\n",
        "house_not_md.drop(['Reg_Lat','Reg_Lng','latitude','Mapper','longitude','RANK'], inplace = True, axis =1 )\n",
        "house_not_md.drop_duplicates(inplace=True, ignore_index=True)\n",
        "def query_runner(query):\n",
        "  sub_data = sqldf(query, globals())\n",
        "  # display(sub_data)\n",
        "  return sub_data"
      ]
    },
    {
      "cell_type": "code",
      "execution_count": null,
      "metadata": {
        "id": "eEZijKEoZjxT"
      },
      "outputs": [],
      "source": [
        "query = \"\"\"\n",
        "select * from house_not_md;\n",
        "\"\"\"\n",
        "\n",
        "query_runner(query)"
      ]
    },
    {
      "cell_type": "markdown",
      "metadata": {
        "id": "L8JrXUTSfGkg"
      },
      "source": [
        "a) For table house_not_md, select the average median_house_value of houses older than 18 years in one of the Central Regions (North-Central, South-Central and Center)"
      ]
    },
    {
      "cell_type": "code",
      "execution_count": null,
      "metadata": {
        "id": "PtgD6Teme0o3"
      },
      "outputs": [],
      "source": [
        "query_a = \"\"\"\n",
        "--Your Work Here\n",
        "\"\"\"\n",
        "\n",
        "query_runner(query_a)"
      ]
    },
    {
      "cell_type": "markdown",
      "metadata": {
        "id": "0N6gFaUQfQMJ"
      },
      "source": [
        "b) If 20 percent of all rooms are living rooms, give the number of living rooms per Region (Rounded to the nearest integer)"
      ]
    },
    {
      "cell_type": "code",
      "execution_count": null,
      "metadata": {
        "id": "t965ui6ZfQMJ"
      },
      "outputs": [],
      "source": [
        "query_b = \"\"\"\n",
        "--Your Work Here\n",
        "\"\"\"\n",
        "\n",
        "query_runner(query_b)"
      ]
    },
    {
      "cell_type": "markdown",
      "metadata": {
        "id": "eOxp7cZcfgTx"
      },
      "source": [
        "c) Assign 'Sparsely Populated', 'Medium Population' or 'Densely Populated' to a Sub Region, under the column population_density, based on the following conditions:\n",
        "\n",
        ">     0    <= Population < 600  -----> 'Sparsely Populated'\n",
        "    600  <= Population < 1000 -----> 'Medium Population'\n",
        "    1000 <= Population        -----> 'Densely Populated'"
      ]
    },
    {
      "cell_type": "code",
      "execution_count": null,
      "metadata": {
        "id": "sQ59f-i6fi2S"
      },
      "outputs": [],
      "source": [
        "query_c = \"\"\"\n",
        "--Your Work Here\n",
        "\"\"\"\n",
        "\n",
        "query_runner(query_c)"
      ]
    },
    {
      "cell_type": "markdown",
      "metadata": {
        "id": "NO1-KRlIfoCx"
      },
      "source": [
        "d) Give the top 2 regions by average median_house_value (desc) (tiebreaker - average housing_median_age asc, used to determine rank when two regions have the same average median_house_value)"
      ]
    },
    {
      "cell_type": "code",
      "execution_count": null,
      "metadata": {
        "id": "x7yARfYAfrAy"
      },
      "outputs": [],
      "source": [
        "query_d = \"\"\"\n",
        "--Your Work Here\n",
        "\"\"\"\n",
        "\n",
        "query_runner(query_d)"
      ]
    },
    {
      "cell_type": "markdown",
      "metadata": {
        "id": "zBS01ZRAfyRh"
      },
      "source": [
        "e) Find the number of members per household for all regions"
      ]
    },
    {
      "cell_type": "code",
      "execution_count": null,
      "metadata": {
        "id": "G_W8oPbDf3Li"
      },
      "outputs": [],
      "source": [
        "query_e = \"\"\"\n",
        "--Your Work Here\n",
        "\"\"\"\n",
        "\n",
        "query_runner(query_e)"
      ]
    },
    {
      "cell_type": "markdown",
      "metadata": {
        "id": "bx8Rk0aNf9QJ"
      },
      "source": [
        "f) A Truth Table indicating whether a region has more than average median_house_value\n",
        "\n",
        ">     REGION     ---   Price_Over_Avg\n",
        "    NORTH-WEST --->  TRUE\n",
        "    SOUTH-EAST --->  FALSE\n",
        "    CENTRAL    --->  FALSE"
      ]
    },
    {
      "cell_type": "code",
      "execution_count": null,
      "metadata": {
        "id": "UJIu3eVs925s"
      },
      "outputs": [],
      "source": [
        "query_f = \"\"\"\n",
        "--Your Work Here\n",
        "\"\"\"\n",
        "\n",
        "query_runner(query_f)"
      ]
    },
    {
      "cell_type": "markdown",
      "metadata": {
        "id": "FhKa5SGo-URu"
      },
      "source": [
        "Date Functions:"
      ]
    },
    {
      "cell_type": "markdown",
      "metadata": {
        "id": "kTk3lxpwhYOb"
      },
      "source": [
        "a) Convert the string 'February 22, 2022' into date format '2022-02-22'\n"
      ]
    },
    {
      "cell_type": "code",
      "execution_count": null,
      "metadata": {
        "id": "7aUVvRJu-YWI"
      },
      "outputs": [],
      "source": [
        "query_dt_a = \"\"\"\n",
        "--Your Work Here\n",
        "\"\"\"\n",
        "\n",
        "query_runner(query_dt_a)"
      ]
    },
    {
      "cell_type": "markdown",
      "metadata": {
        "id": "qtzIrJ6BhaWr"
      },
      "source": [
        "b) Extract Month, Date, Year from the string 'February 22 2022'"
      ]
    },
    {
      "cell_type": "code",
      "execution_count": null,
      "metadata": {
        "id": "qYKMGoa6hfgT"
      },
      "outputs": [],
      "source": [
        "query_dt_b = \"\"\"\n",
        "--Your Work Here\n",
        "\"\"\"\n",
        "\n",
        "query_runner(query_dt_b)"
      ]
    }
  ],
  "metadata": {
    "colab": {
      "provenance": []
    },
    "kernelspec": {
      "display_name": "Python 3",
      "name": "python3"
    },
    "language_info": {
      "name": "python"
    }
  },
  "nbformat": 4,
  "nbformat_minor": 0
}