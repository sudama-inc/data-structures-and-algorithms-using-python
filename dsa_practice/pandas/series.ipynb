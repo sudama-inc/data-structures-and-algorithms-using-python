{
 "cells": [
  {
   "cell_type": "code",
   "execution_count": 1,
   "id": "3db376ee",
   "metadata": {},
   "outputs": [],
   "source": [
    "import pandas as pd\n",
    "import numpy as np"
   ]
  },
  {
   "cell_type": "markdown",
   "id": "f67d0648",
   "metadata": {},
   "source": [
    "https://www.geeksforgeeks.org/selecting-rows-in-pandas-dataframe-based-on-conditions/"
   ]
  },
  {
   "cell_type": "markdown",
   "id": "115d957f",
   "metadata": {},
   "source": [
    "1. Write a Pandas program to create and display a one-dimensional array-like object containing an array of data using Pandas module."
   ]
  },
  {
   "cell_type": "code",
   "execution_count": 2,
   "id": "b2748e40",
   "metadata": {},
   "outputs": [
    {
     "data": {
      "text/plain": [
       "0    2\n",
       "1    3\n",
       "2    4\n",
       "3    5\n",
       "4    6\n",
       "5    7\n",
       "6    8\n",
       "7    9\n",
       "dtype: int64"
      ]
     },
     "execution_count": 2,
     "metadata": {},
     "output_type": "execute_result"
    }
   ],
   "source": [
    "x = np.arange(2, 10)\n",
    "df = pd.Series(x)\n",
    "df"
   ]
  },
  {
   "cell_type": "code",
   "execution_count": 3,
   "id": "686c6c5d",
   "metadata": {},
   "outputs": [
    {
     "data": {
      "text/plain": [
       "[2, 3, 4, 5, 6, 7, 8, 9]"
      ]
     },
     "execution_count": 3,
     "metadata": {},
     "output_type": "execute_result"
    }
   ],
   "source": [
    "df_list = df.to_list()\n",
    "df_list"
   ]
  },
  {
   "cell_type": "markdown",
   "id": "8e1da9dc",
   "metadata": {},
   "source": [
    "3. Write a Pandas program to add, subtract, multiple and divide two Pandas Series.\n",
    "Sample Series: [2, 4, 6, 8, 10], [1, 3, 5, 7, 9]"
   ]
  },
  {
   "cell_type": "code",
   "execution_count": 4,
   "id": "30918e3b",
   "metadata": {},
   "outputs": [
    {
     "name": "stdout",
     "output_type": "stream",
     "text": [
      "0    False\n",
      "1    False\n",
      "2    False\n",
      "3    False\n",
      "4    False\n",
      "dtype: bool\n",
      "0    True\n",
      "1    True\n",
      "2    True\n",
      "3    True\n",
      "4    True\n",
      "dtype: bool\n",
      "0    False\n",
      "1    False\n",
      "2    False\n",
      "3    False\n",
      "4    False\n",
      "dtype: bool\n"
     ]
    }
   ],
   "source": [
    "s1 = pd.Series([2, 4, 6, 8, 10])\n",
    "s2 = pd.Series([1, 3, 5, 7, 9])\n",
    "add = s1+s2\n",
    "sub = s1-s2\n",
    "mult = s1*s2\n",
    "div = s1/s2\n",
    "\n",
    "print(s1==s2)\n",
    "print(s1>s2)\n",
    "print(s1<s2)"
   ]
  },
  {
   "cell_type": "markdown",
   "id": "01ca3b75",
   "metadata": {},
   "source": [
    "5. Write a Pandas program to convert a dictionary to a Pandas series.\n",
    "Original dictionary:\n",
    "{'a': 100, 'b': 200, 'c': 300, 'd': 400, 'e': 800}"
   ]
  },
  {
   "cell_type": "code",
   "execution_count": 5,
   "id": "2cbb0c4e",
   "metadata": {},
   "outputs": [
    {
     "data": {
      "text/plain": [
       "a    100.0\n",
       "b    200.0\n",
       "c    300.0\n",
       "d    400.0\n",
       "e    800.0\n",
       "dtype: float64"
      ]
     },
     "execution_count": 5,
     "metadata": {},
     "output_type": "execute_result"
    }
   ],
   "source": [
    "dct = {'a': 100, 'b': 200, 'c': 300, 'd': 400, 'e': 800}\n",
    "df = pd.Series(dct, dtype=float)\n",
    "df"
   ]
  },
  {
   "cell_type": "markdown",
   "id": "b3dacd71",
   "metadata": {},
   "source": [
    "8. Write a Pandas program to convert the first column of a DataFrame as a Series."
   ]
  },
  {
   "cell_type": "code",
   "execution_count": 6,
   "id": "0653e872",
   "metadata": {},
   "outputs": [
    {
     "name": "stdout",
     "output_type": "stream",
     "text": [
      "<class 'pandas.core.series.Series'>\n"
     ]
    }
   ],
   "source": [
    "d = {'col1': [1, 2, 3, 4, 7, 11], 'col2': [4, 5, 6, 9, 5, 0], 'col3': [7, 5, 8, 12, 1,11]}\n",
    "df = pd.DataFrame(d)\n",
    "s = pd.Series(df.col1)\n",
    "print(type(s))"
   ]
  },
  {
   "cell_type": "markdown",
   "id": "9addd570",
   "metadata": {},
   "source": [
    "9. Write a Pandas program to convert a given Series to an array."
   ]
  },
  {
   "cell_type": "code",
   "execution_count": 7,
   "id": "71d912c4",
   "metadata": {},
   "outputs": [
    {
     "name": "stdout",
     "output_type": "stream",
     "text": [
      "0       100\n",
      "1       200\n",
      "2    python\n",
      "3    300.12\n",
      "4       400\n",
      "dtype: object\n",
      "['100' '200' 'python' '300.12' '400']\n",
      "<class 'numpy.ndarray'>\n"
     ]
    }
   ],
   "source": [
    "s1 = pd.Series(['100', '200', 'python', '300.12', '400'])\n",
    "print(s1)\n",
    "a = s1.values\n",
    "print(a)\n",
    "print(type(a))\n"
   ]
  },
  {
   "cell_type": "code",
   "execution_count": 8,
   "id": "83c52a3e",
   "metadata": {},
   "outputs": [
    {
     "data": {
      "text/plain": [
       "array([100, 200, 100, 300, 400])"
      ]
     },
     "execution_count": 8,
     "metadata": {},
     "output_type": "execute_result"
    }
   ],
   "source": [
    "s1 = pd.Series(['100', '200', '100', '300', '400'])\n",
    "d = s1.to_numpy(dtype ='int64')\n",
    "d"
   ]
  },
  {
   "cell_type": "markdown",
   "id": "d7d25f25",
   "metadata": {},
   "source": [
    "*** 10. Write a Pandas program to convert Series of lists to one Series."
   ]
  },
  {
   "cell_type": "code",
   "execution_count": 9,
   "id": "198d4e26",
   "metadata": {},
   "outputs": [
    {
     "data": {
      "text/plain": [
       "0       Red\n",
       "1     Green\n",
       "2     White\n",
       "3       Red\n",
       "4     Black\n",
       "5    Yellow\n",
       "dtype: object"
      ]
     },
     "execution_count": 9,
     "metadata": {},
     "output_type": "execute_result"
    }
   ],
   "source": [
    "s = pd.Series([\n",
    "    ['Red', 'Green', 'White'],\n",
    "    ['Red', 'Black'],\n",
    "    ['Yellow']])\n",
    "\n",
    "ss = s.apply(pd.Series).stack().reset_index(drop=True)\n",
    "ss"
   ]
  },
  {
   "cell_type": "markdown",
   "id": "ac2327c5",
   "metadata": {},
   "source": [
    "11. Write a Pandas program to sort a given Series."
   ]
  },
  {
   "cell_type": "code",
   "execution_count": 10,
   "id": "7a48b91b",
   "metadata": {},
   "outputs": [
    {
     "name": "stdout",
     "output_type": "stream",
     "text": [
      "4     Black\n",
      "1     Green\n",
      "0       Red\n",
      "3       Red\n",
      "2     White\n",
      "5    Yellow\n",
      "dtype: object\n"
     ]
    }
   ],
   "source": [
    "print(ss.sort_values())"
   ]
  },
  {
   "cell_type": "markdown",
   "id": "1a0a89df",
   "metadata": {},
   "source": [
    "12. Write a Pandas program to add some data to an existing Series."
   ]
  },
  {
   "cell_type": "code",
   "execution_count": 11,
   "id": "30c9dd34",
   "metadata": {},
   "outputs": [
    {
     "data": {
      "text/plain": [
       "0       Red\n",
       "1     Green\n",
       "2     White\n",
       "3       Red\n",
       "4     Black\n",
       "5    Yellow\n",
       "6       500\n",
       "7       php\n",
       "dtype: object"
      ]
     },
     "execution_count": 11,
     "metadata": {},
     "output_type": "execute_result"
    }
   ],
   "source": [
    "new_ss = pd.concat([ss, pd.Series([500, \"php\"])], ignore_index=True)\n",
    "new_ss"
   ]
  },
  {
   "cell_type": "markdown",
   "id": "867682c2",
   "metadata": {},
   "source": [
    "*** 13. Write a Pandas program to create a subset of a given series based on value and condition."
   ]
  },
  {
   "cell_type": "code",
   "execution_count": 12,
   "id": "1a0ae48e",
   "metadata": {},
   "outputs": [
    {
     "data": {
      "text/plain": [
       "0    0\n",
       "1    1\n",
       "2    2\n",
       "3    3\n",
       "4    4\n",
       "dtype: int64"
      ]
     },
     "execution_count": 12,
     "metadata": {},
     "output_type": "execute_result"
    }
   ],
   "source": [
    "ss = pd.Series([i for i in range(10)])\n",
    "sub_ss = ss[ss<5]\n",
    "sub_ss"
   ]
  },
  {
   "cell_type": "markdown",
   "id": "a5278b7b",
   "metadata": {},
   "source": [
    "14. Write a Pandas program to change the order of index of a given series."
   ]
  },
  {
   "cell_type": "code",
   "execution_count": 13,
   "id": "709a3c5e",
   "metadata": {},
   "outputs": [
    {
     "data": {
      "text/plain": [
       "3    3\n",
       "4    4\n",
       "1    1\n",
       "0    0\n",
       "2    2\n",
       "dtype: int64"
      ]
     },
     "execution_count": 13,
     "metadata": {},
     "output_type": "execute_result"
    }
   ],
   "source": [
    "import random\n",
    "new_sub_ss = sub_ss.reindex([3,4,1,0,2])\n",
    "new_sub_ss"
   ]
  },
  {
   "cell_type": "markdown",
   "id": "302ece90",
   "metadata": {},
   "source": [
    "15. Write a Pandas program to create the mean and standard deviation of the data of a given Series."
   ]
  },
  {
   "cell_type": "code",
   "execution_count": 14,
   "id": "e872bd79",
   "metadata": {},
   "outputs": [
    {
     "name": "stdout",
     "output_type": "stream",
     "text": [
      "2.0\n",
      "1.5811388300841898\n"
     ]
    }
   ],
   "source": [
    "print(new_sub_ss.mean())\n",
    "print(new_sub_ss.std())"
   ]
  },
  {
   "cell_type": "markdown",
   "id": "0ea0bc33",
   "metadata": {},
   "source": [
    "*** 16. Write a Pandas program to get the items of a given series not present in another given series."
   ]
  },
  {
   "cell_type": "code",
   "execution_count": 15,
   "id": "e12d37d4",
   "metadata": {},
   "outputs": [
    {
     "name": "stdout",
     "output_type": "stream",
     "text": [
      "0    1\n",
      "2    3\n",
      "4    5\n",
      "dtype: int64\n"
     ]
    }
   ],
   "source": [
    "sr1 = pd.Series([1, 2, 3, 4, 5])\n",
    "sr2 = pd.Series([2, 4, 6, 8, 10])\n",
    "result = sr1[~sr1.isin(sr2)]\n",
    "print(result)\n"
   ]
  },
  {
   "cell_type": "markdown",
   "id": "8354cd8d",
   "metadata": {},
   "source": [
    "*** 17. Write a Pandas program to get the items which are not common of two given series. "
   ]
  },
  {
   "cell_type": "code",
   "execution_count": 16,
   "id": "677e801e",
   "metadata": {},
   "outputs": [
    {
     "name": "stdout",
     "output_type": "stream",
     "text": [
      "0     1\n",
      "2     3\n",
      "4     5\n",
      "5     6\n",
      "6     8\n",
      "7    10\n",
      "dtype: int64\n"
     ]
    }
   ],
   "source": [
    "sr1 = pd.Series([1, 2, 3, 4, 5])\n",
    "sr2 = pd.Series([2, 4, 6, 8, 10])\n",
    "sr11 = pd.Series(np.union1d(sr1, sr2))\n",
    "sr22 = pd.Series(np.intersect1d(sr1, sr2))\n",
    "result = sr11[~sr11.isin(sr22)]\n",
    "print(result)\n"
   ]
  },
  {
   "cell_type": "markdown",
   "id": "5fc46aa3",
   "metadata": {},
   "source": [
    "18. Write a Pandas program to compute the minimum, 25th percentile, median, 75th, and maximum of a given series."
   ]
  },
  {
   "cell_type": "code",
   "execution_count": 17,
   "id": "09bf89fd",
   "metadata": {},
   "outputs": [
    {
     "name": "stdout",
     "output_type": "stream",
     "text": [
      "count    5.000000\n",
      "mean     3.000000\n",
      "std      1.581139\n",
      "min      1.000000\n",
      "25%      2.000000\n",
      "50%      3.000000\n",
      "75%      4.000000\n",
      "max      5.000000\n",
      "dtype: float64\n",
      "\n",
      "Minimum, 25th percentile, median, 75th, and maximum of a given series:\n",
      "[1. 2. 3. 4. 5.]\n"
     ]
    }
   ],
   "source": [
    "sr1 = pd.Series([1, 2, 3, 4, 5])\n",
    "print(sr1.describe())\n",
    "\n",
    "result = np.percentile(sr1, q=[0, 25, 50, 75, 100])\n",
    "print(\"\\nMinimum, 25th percentile, median, 75th, and maximum of a given series:\")\n",
    "print(result)"
   ]
  },
  {
   "cell_type": "markdown",
   "id": "b56662a5",
   "metadata": {},
   "source": [
    "*** 20. Write a Pandas program to display most frequent value in a given series and replace everything else as 'Other' in the series."
   ]
  },
  {
   "cell_type": "code",
   "execution_count": 18,
   "id": "0fa26282",
   "metadata": {},
   "outputs": [
    {
     "name": "stdout",
     "output_type": "stream",
     "text": [
      "0     Other\n",
      "1     Other\n",
      "2     Other\n",
      "3         1\n",
      "4         1\n",
      "5     Other\n",
      "6     Other\n",
      "7         1\n",
      "8     Other\n",
      "9         1\n",
      "10    Other\n",
      "11        1\n",
      "12    Other\n",
      "13    Other\n",
      "14    Other\n",
      "dtype: object\n",
      "Disply Mode: \n"
     ]
    },
    {
     "data": {
      "text/plain": [
       "0    Other\n",
       "dtype: object"
      ]
     },
     "metadata": {},
     "output_type": "display_data"
    }
   ],
   "source": [
    "num_series = pd.Series(np.random.randint(1, 5, [15]))\n",
    "result = num_series[~num_series.isin(num_series.value_counts().index[:1])] = 'Other'\n",
    "print(num_series)\n",
    "print('Disply Mode: ')\n",
    "display(num_series.mode())\n"
   ]
  },
  {
   "cell_type": "markdown",
   "id": "4041ab8c",
   "metadata": {},
   "source": [
    "*** 21. Write a Pandas program to find the positions of numbers that are multiples of 5 of a given series. "
   ]
  },
  {
   "cell_type": "code",
   "execution_count": 19,
   "id": "8f3ff207",
   "metadata": {},
   "outputs": [
    {
     "name": "stdout",
     "output_type": "stream",
     "text": [
      "(array([0, 1, 3, 4, 5, 9]),)\n"
     ]
    }
   ],
   "source": [
    "sr = pd.Series([5,15,3,10,25,5,26,1,8,5,2])\n",
    "result = np.where(sr % 5==0)\n",
    "print(result)"
   ]
  },
  {
   "cell_type": "markdown",
   "id": "98c0568c",
   "metadata": {},
   "source": [
    "*** 22. Write a Pandas program to extract items at given positions of a given series."
   ]
  },
  {
   "cell_type": "code",
   "execution_count": 20,
   "id": "e0797b32",
   "metadata": {},
   "outputs": [
    {
     "data": {
      "text/plain": [
       "0     2\n",
       "2     9\n",
       "6     8\n",
       "11    0\n",
       "21    3\n",
       "dtype: object"
      ]
     },
     "metadata": {},
     "output_type": "display_data"
    }
   ],
   "source": [
    "num_series = pd.Series(list('2390238923902390239023'))\n",
    "element_pos = [0, 2, 6, 11, 21]\n",
    "result = num_series.take(element_pos)\n",
    "display(result)"
   ]
  },
  {
   "cell_type": "markdown",
   "id": "d75c2e74",
   "metadata": {},
   "source": [
    "*** 23. Write a Pandas program to get the positions of items of a given series in another given series. "
   ]
  },
  {
   "cell_type": "code",
   "execution_count": 21,
   "id": "52da0cad",
   "metadata": {},
   "outputs": [
    {
     "name": "stdout",
     "output_type": "stream",
     "text": [
      "Positions of items of series2 in series1:\n",
      "[0, 2, 4, 6, 9]\n"
     ]
    }
   ],
   "source": [
    "series1 = pd.Series([1, 2, 3, 4, 5, 6, 7, 8, 9, 10])\n",
    "series2 = pd.Series([1, 3, 5, 7, 10])\n",
    "result = [pd.Index(series1).get_loc(i) for i in series2]\n",
    "print(\"Positions of items of series2 in series1:\")\n",
    "print(result)\n"
   ]
  },
  {
   "cell_type": "markdown",
   "id": "96e305be",
   "metadata": {},
   "source": [
    "*** 24. Write a Pandas program convert the first and last character of each word to upper case in each word of a given series. "
   ]
  },
  {
   "cell_type": "code",
   "execution_count": 22,
   "id": "bafeb593",
   "metadata": {},
   "outputs": [
    {
     "name": "stdout",
     "output_type": "stream",
     "text": [
      "\n",
      "First and last character of each word to upper case:\n",
      "0       PhP\n",
      "1    PythoN\n",
      "2      JavA\n",
      "3        C#\n",
      "dtype: object\n"
     ]
    }
   ],
   "source": [
    "series1 = pd.Series(['php', 'python', 'java', 'c#'])\n",
    "result = series1.map(lambda x: x[0].upper() + x[1:-1] + x[-1].upper())\n",
    "print(\"\\nFirst and last character of each word to upper case:\")\n",
    "print(result)\n"
   ]
  },
  {
   "cell_type": "markdown",
   "id": "3560617b",
   "metadata": {},
   "source": [
    "*** 26. Write a Pandas program to compute difference of differences between  numbers of a given series."
   ]
  },
  {
   "cell_type": "code",
   "execution_count": 23,
   "id": "c625ec0e",
   "metadata": {},
   "outputs": [
    {
     "name": "stdout",
     "output_type": "stream",
     "text": [
      "[nan, 1.0, 3.0, 1.0, -3.0]\n",
      "[nan, nan, 2.0, -2.0, -4.0]\n"
     ]
    }
   ],
   "source": [
    "series1 = pd.Series([2,3,6,7,4])\n",
    "\n",
    "print(series1.diff().tolist())\n",
    "print(series1.diff().diff().tolist())"
   ]
  },
  {
   "cell_type": "markdown",
   "id": "d9d62707",
   "metadata": {},
   "source": [
    "28. Write a Pandas program to get the day of month, day of year, week number and day of week from a given series of date strings."
   ]
  },
  {
   "cell_type": "code",
   "execution_count": 24,
   "id": "42e67812",
   "metadata": {},
   "outputs": [
    {
     "name": "stdout",
     "output_type": "stream",
     "text": [
      "Day of month:\n",
      "[1, 2, 7, 6, 12, 6]\n",
      "Day of year:\n",
      "[1, 276, 66, 126, 103, 96]\n",
      "Week number:\n",
      "[1, 39, 10, 19, 15, 14]\n"
     ]
    },
    {
     "name": "stderr",
     "output_type": "stream",
     "text": [
      "/tmp/ipykernel_68371/2899157629.py:9: FutureWarning: Series.dt.weekofyear and Series.dt.week have been deprecated. Please use Series.dt.isocalendar().week instead.\n",
      "  print(date_series.dt.weekofyear.tolist())\n"
     ]
    }
   ],
   "source": [
    "from dateutil.parser import parse\n",
    "date_series = pd.Series(['01 Jan 2015', '10-02-2016', '20180307', '2014/05/06', '2016-04-12', '2019-04-06T11:20'])\n",
    "date_series = date_series.map(lambda x: parse(x))\n",
    "print(\"Day of month:\")\n",
    "print(date_series.dt.day.tolist())\n",
    "print(\"Day of year:\")\n",
    "print(date_series.dt.dayofyear.tolist())\n",
    "print(\"Week number:\")\n",
    "print(date_series.dt.weekofyear.tolist())\n",
    "# print(\"Day of week:\")\n",
    "# print(date_series.dt.weekday_name.tolist())"
   ]
  },
  {
   "cell_type": "markdown",
   "id": "cc733a3b",
   "metadata": {},
   "source": [
    "29. Write a Pandas program to convert year-month string to dates adding a specified day of the month. "
   ]
  },
  {
   "cell_type": "code",
   "execution_count": 25,
   "id": "9ec90aa9",
   "metadata": {},
   "outputs": [
    {
     "name": "stdout",
     "output_type": "stream",
     "text": [
      "0   2015-01-11\n",
      "1   2016-02-11\n",
      "2   2017-03-11\n",
      "3   2018-04-11\n",
      "4   2019-05-11\n",
      "dtype: datetime64[ns]\n"
     ]
    }
   ],
   "source": [
    "date_series = pd.Series(['Jan 2015', 'Feb 2016', 'Mar 2017', 'Apr 2018', 'May 2019'])\n",
    "result = date_series.map(lambda d: parse('11' + d))\n",
    "print(result)\n"
   ]
  },
  {
   "cell_type": "markdown",
   "id": "4c5dbdcc",
   "metadata": {},
   "source": [
    "*** 30. Write a Pandas program to filter words from a given series that contain atleast two vowels."
   ]
  },
  {
   "cell_type": "code",
   "execution_count": 26,
   "id": "bc6bf538",
   "metadata": {},
   "outputs": [
    {
     "name": "stdout",
     "output_type": "stream",
     "text": [
      "1     Green\n",
      "2    Orange\n",
      "4    Yellow\n",
      "5     White\n",
      "dtype: object\n"
     ]
    }
   ],
   "source": [
    "from collections import Counter\n",
    "color_series = pd.Series(['Red', 'Green', 'Orange', 'Pink', 'Yellow', 'White'])\n",
    "result =color_series.map(lambda c: sum([Counter(c.lower()).get(i, 0) for i in list('aeiou')]) >= 2)\n",
    "print(color_series[result])\n"
   ]
  },
  {
   "cell_type": "markdown",
   "id": "018454ce",
   "metadata": {},
   "source": [
    "31. Write a Pandas program to compute the Euclidean distance between two given series."
   ]
  },
  {
   "cell_type": "code",
   "execution_count": 27,
   "id": "aeecd91e",
   "metadata": {},
   "outputs": [
    {
     "name": "stdout",
     "output_type": "stream",
     "text": [
      "16.492422502470642\n"
     ]
    }
   ],
   "source": [
    "x = pd.Series([1, 2, 3, 4, 5, 6, 7, 8, 9, 10])\n",
    "y = pd.Series([11, 8, 7, 5, 6, 5, 3, 4, 7, 1])\n",
    "\n",
    "print(np.linalg.norm(x-y))\n"
   ]
  },
  {
   "cell_type": "markdown",
   "id": "b92c8063",
   "metadata": {},
   "source": [
    "*** 32. Write a Pandas program to find the positions of the values neighboured by smaller values on both sides in a given series."
   ]
  },
  {
   "cell_type": "code",
   "execution_count": 28,
   "id": "6d8cbb18",
   "metadata": {},
   "outputs": [
    {
     "name": "stdout",
     "output_type": "stream",
     "text": [
      "\n",
      "Positions of the values surrounded by smaller values on both sides:\n",
      "[1 4 8]\n"
     ]
    }
   ],
   "source": [
    "nums = pd.Series([1, 8, 7, 5, 6, 5, 3, 4, 7, 1])\n",
    "print(\"\\nPositions of the values surrounded by smaller values on both sides:\")\n",
    "temp = np.diff(np.sign(np.diff(nums)))\n",
    "result = np.where(temp == -2)[0] + 1\n",
    "print(result)\n"
   ]
  },
  {
   "cell_type": "markdown",
   "id": "b5ad9515",
   "metadata": {},
   "source": [
    "*** 33. Write a Pandas program to replace missing white spaces in a given string with the least frequent character."
   ]
  },
  {
   "cell_type": "code",
   "execution_count": 29,
   "id": "9d311ea4",
   "metadata": {},
   "outputs": [
    {
     "name": "stdout",
     "output_type": "stream",
     "text": [
      "c    3\n",
      "     3\n",
      "d    3\n",
      "a    2\n",
      "b    2\n",
      "e    2\n",
      "f    2\n",
      "i    1\n",
      "dtype: int64\n",
      "abcidefiabcdefiicd\n"
     ]
    }
   ],
   "source": [
    "str1 = 'abc def abcdef icd'\n",
    "ser = pd.Series(list(str1))\n",
    "element_freq = ser.value_counts()\n",
    "print(element_freq)\n",
    "current_freq = element_freq.dropna().index[-1]\n",
    "result = \"\".join(ser.replace(' ', current_freq))\n",
    "print(result)\n"
   ]
  },
  {
   "cell_type": "markdown",
   "id": "2360d19b",
   "metadata": {},
   "source": [
    "*** 34. Write a Pandas program to compute the autocorrelations of a given numeric series."
   ]
  },
  {
   "cell_type": "code",
   "execution_count": 30,
   "id": "c64b799e",
   "metadata": {},
   "outputs": [
    {
     "name": "stdout",
     "output_type": "stream",
     "text": [
      "\n",
      "Autocorrelations of the said series:\n",
      "[-0.12, 0.02, -0.57, -0.33, 0.2, 0.4, 0.07, 0.39, -0.89, 0.05]\n"
     ]
    }
   ],
   "source": [
    "num_series = pd.Series(np.arange(15) + np.random.normal(1, 10, 15))\n",
    "autocorrelations = [num_series.autocorr(i).round(2) for i in range(11)]\n",
    "print(\"\\nAutocorrelations of the said series:\")\n",
    "print(autocorrelations[1:])\n"
   ]
  },
  {
   "cell_type": "markdown",
   "id": "7ffbd743",
   "metadata": {},
   "source": [
    "*** 35. Write a Pandas program to create a TimeSeries to display all the Sundays of given year."
   ]
  },
  {
   "cell_type": "code",
   "execution_count": 31,
   "id": "c27189ec",
   "metadata": {},
   "outputs": [
    {
     "name": "stdout",
     "output_type": "stream",
     "text": [
      "All Sundays of 2019:\n",
      "0    2023-01-01\n",
      "1    2023-01-08\n",
      "2    2023-01-15\n",
      "3    2023-01-22\n",
      "4    2023-01-29\n",
      "5    2023-02-05\n",
      "6    2023-02-12\n",
      "7    2023-02-19\n",
      "8    2023-02-26\n",
      "9    2023-03-05\n",
      "10   2023-03-12\n",
      "11   2023-03-19\n",
      "12   2023-03-26\n",
      "13   2023-04-02\n",
      "14   2023-04-09\n",
      "15   2023-04-16\n",
      "16   2023-04-23\n",
      "17   2023-04-30\n",
      "18   2023-05-07\n",
      "19   2023-05-14\n",
      "20   2023-05-21\n",
      "21   2023-05-28\n",
      "22   2023-06-04\n",
      "23   2023-06-11\n",
      "24   2023-06-18\n",
      "25   2023-06-25\n",
      "26   2023-07-02\n",
      "27   2023-07-09\n",
      "28   2023-07-16\n",
      "29   2023-07-23\n",
      "30   2023-07-30\n",
      "31   2023-08-06\n",
      "32   2023-08-13\n",
      "33   2023-08-20\n",
      "34   2023-08-27\n",
      "35   2023-09-03\n",
      "36   2023-09-10\n",
      "37   2023-09-17\n",
      "38   2023-09-24\n",
      "39   2023-10-01\n",
      "40   2023-10-08\n",
      "41   2023-10-15\n",
      "42   2023-10-22\n",
      "43   2023-10-29\n",
      "44   2023-11-05\n",
      "45   2023-11-12\n",
      "46   2023-11-19\n",
      "47   2023-11-26\n",
      "48   2023-12-03\n",
      "49   2023-12-10\n",
      "50   2023-12-17\n",
      "51   2023-12-24\n",
      "dtype: datetime64[ns]\n"
     ]
    }
   ],
   "source": [
    "result = pd.Series(pd.date_range('2023-01-01', periods=52, freq='W-SUN'))\n",
    "print(\"All Sundays of 2019:\")\n",
    "print(result)\n"
   ]
  },
  {
   "cell_type": "markdown",
   "id": "c85c9d21",
   "metadata": {},
   "source": [
    "36. Write a Pandas program to convert given series into a dataframe with its index as another column on the dataframe."
   ]
  },
  {
   "cell_type": "code",
   "execution_count": 32,
   "id": "4f7ad8b6",
   "metadata": {},
   "outputs": [
    {
     "name": "stdout",
     "output_type": "stream",
     "text": [
      "   index  0\n",
      "0      0  A\n",
      "1      1  B\n",
      "2      2  C\n",
      "3      3  D\n",
      "4      4  E\n"
     ]
    }
   ],
   "source": [
    "char_list = list('ABCDEFGHIJKLMNOP')\n",
    "num_ser = pd.Series(char_list)\n",
    "df = num_ser.to_frame().reset_index()\n",
    "print(df.head())\n"
   ]
  },
  {
   "cell_type": "markdown",
   "id": "73a51987",
   "metadata": {},
   "source": [
    "37. Write a Pandas program to stack two given series vertically and horizontally."
   ]
  },
  {
   "cell_type": "code",
   "execution_count": 33,
   "id": "b01f6e3b",
   "metadata": {},
   "outputs": [
    {
     "name": "stdout",
     "output_type": "stream",
     "text": [
      "\n",
      "Stack two given series vertically and horizontally:\n",
      "   0  1\n",
      "0  0  p\n",
      "1  1  q\n",
      "2  2  r\n",
      "3  3  s\n",
      "4  4  t\n",
      "5  5  u\n",
      "6  6  v\n",
      "7  7  w\n",
      "8  8  x\n",
      "9  9  y\n"
     ]
    },
    {
     "name": "stderr",
     "output_type": "stream",
     "text": [
      "/tmp/ipykernel_68371/3588445279.py:4: FutureWarning: The series.append method is deprecated and will be removed from pandas in a future version. Use pandas.concat instead.\n",
      "  series1.append(series2)\n"
     ]
    }
   ],
   "source": [
    "series1 = pd.Series(range(10))\n",
    "series2 = pd.Series(list('pqrstuvwxy'))\n",
    "\n",
    "series1.append(series2)\n",
    "df = pd.concat([series1, series2], axis=1)\n",
    "print(\"\\nStack two given series vertically and horizontally:\")\n",
    "print(df)\n"
   ]
  },
  {
   "cell_type": "markdown",
   "id": "b70e0c75",
   "metadata": {},
   "source": [
    "*** 39. Write a Pandas program to find the index of the first occurrence of the smallest and largest value of a given series."
   ]
  },
  {
   "cell_type": "code",
   "execution_count": 34,
   "id": "e0834258",
   "metadata": {},
   "outputs": [
    {
     "name": "stdout",
     "output_type": "stream",
     "text": [
      "Smallest:  9\n",
      "Largest:  4\n"
     ]
    }
   ],
   "source": [
    "nums = pd.Series([1, 3, 7, 12, 88, 23, 3, 1, 9, 0])\n",
    "print('Smallest: ',nums.idxmin())\n",
    "print('Largest: ',nums.idxmax())"
   ]
  },
  {
   "cell_type": "markdown",
   "id": "636708b4",
   "metadata": {},
   "source": [
    "*** 40. Write a Pandas program to check inequality over the index axis of a given dataframe and a given series. "
   ]
  },
  {
   "cell_type": "code",
   "execution_count": 35,
   "id": "5219e14c",
   "metadata": {},
   "outputs": [
    {
     "name": "stdout",
     "output_type": "stream",
     "text": [
      "\n",
      "Check for inequality of the said series & dataframe:\n",
      "       W      X     Y     Z\n",
      "0  False   True  True  True\n",
      "1  False  False  True  True\n",
      "2  False   True  True  True\n",
      "3  False  False  True  True\n",
      "4   True   True  True  True\n"
     ]
    }
   ],
   "source": [
    "df_data = pd.DataFrame({'W':[68,75,86,80,None],'X':[78,75,None,80,86], 'Y':[84,94,89,86,86],'Z':[86,97,96,72,83]});\n",
    "sr_data = pd.Series([68, 75, 86, 80, None]) \n",
    "\n",
    "print(\"\\nCheck for inequality of the said series & dataframe:\")\n",
    "print(df_data.ne(sr_data, axis = 0))\n"
   ]
  },
  {
   "cell_type": "code",
   "execution_count": null,
   "id": "d3ef435d",
   "metadata": {},
   "outputs": [],
   "source": []
  }
 ],
 "metadata": {
  "kernelspec": {
   "display_name": "Python 3 (ipykernel)",
   "language": "python",
   "name": "python3"
  },
  "language_info": {
   "codemirror_mode": {
    "name": "ipython",
    "version": 3
   },
   "file_extension": ".py",
   "mimetype": "text/x-python",
   "name": "python",
   "nbconvert_exporter": "python",
   "pygments_lexer": "ipython3",
   "version": "3.9.7"
  }
 },
 "nbformat": 4,
 "nbformat_minor": 5
}
